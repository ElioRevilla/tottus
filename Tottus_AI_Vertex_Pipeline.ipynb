{
  "nbformat": 4,
  "nbformat_minor": 0,
  "metadata": {
    "colab": {
      "provenance": [],
      "gpuType": "T4"
    },
    "kernelspec": {
      "name": "python3",
      "display_name": "Python 3"
    },
    "language_info": {
      "name": "python"
    },
    "accelerator": "GPU"
  },
  "cells": [
    {
      "cell_type": "markdown",
      "metadata": {
        "id": "xqB5XvP-U3Sn"
      },
      "source": [
        "# Dependencies\n"
      ]
    },
    {
      "cell_type": "code",
      "metadata": {
        "colab": {
          "base_uri": "https://localhost:8080/",
          "height": 1000
        },
        "id": "5UmtuvhYixkz",
        "outputId": "c4d730d3-cf28-46f7-a1af-a096f0b25ad7"
      },
      "source": [
        "# updated to the latest dependencies on February 2023\n",
        "!pip install google-cloud-aiplatform==1.7.1 --upgrade\n",
        "!pip install google-cloud-pipeline-components==0.2.0 --upgrade\n",
        "!pip install kfp==1.8.8 --upgrade"
      ],
      "execution_count": 2,
      "outputs": [
        {
          "output_type": "stream",
          "name": "stdout",
          "text": [
            "Collecting google-cloud-aiplatform==1.7.1\n",
            "  Downloading google_cloud_aiplatform-1.7.1-py2.py3-none-any.whl (1.6 MB)\n",
            "\u001b[2K     \u001b[90m━━━━━━━━━━━━━━━━━━━━━━━━━━━━━━━━━━━━━━━━\u001b[0m \u001b[32m1.6/1.6 MB\u001b[0m \u001b[31m15.4 MB/s\u001b[0m eta \u001b[36m0:00:00\u001b[0m\n",
            "\u001b[?25hRequirement already satisfied: google-api-core[grpc]<3.0.0dev,>=1.26.0 in /usr/local/lib/python3.10/dist-packages (from google-cloud-aiplatform==1.7.1) (2.11.1)\n",
            "Requirement already satisfied: proto-plus>=1.10.1 in /usr/local/lib/python3.10/dist-packages (from google-cloud-aiplatform==1.7.1) (1.22.3)\n",
            "Requirement already satisfied: packaging>=14.3 in /usr/local/lib/python3.10/dist-packages (from google-cloud-aiplatform==1.7.1) (21.3)\n",
            "Collecting google-cloud-storage<2.0.0dev,>=1.32.0 (from google-cloud-aiplatform==1.7.1)\n",
            "  Downloading google_cloud_storage-1.44.0-py2.py3-none-any.whl (106 kB)\n",
            "\u001b[2K     \u001b[90m━━━━━━━━━━━━━━━━━━━━━━━━━━━━━━━━━━━━━━\u001b[0m \u001b[32m106.8/106.8 kB\u001b[0m \u001b[31m15.7 MB/s\u001b[0m eta \u001b[36m0:00:00\u001b[0m\n",
            "\u001b[?25hCollecting google-cloud-bigquery<3.0.0dev,>=1.15.0 (from google-cloud-aiplatform==1.7.1)\n",
            "  Downloading google_cloud_bigquery-2.34.4-py2.py3-none-any.whl (206 kB)\n",
            "\u001b[2K     \u001b[90m━━━━━━━━━━━━━━━━━━━━━━━━━━━━━━━━━━━━━━\u001b[0m \u001b[32m206.6/206.6 kB\u001b[0m \u001b[31m14.8 MB/s\u001b[0m eta \u001b[36m0:00:00\u001b[0m\n",
            "\u001b[?25hRequirement already satisfied: googleapis-common-protos<2.0.dev0,>=1.56.2 in /usr/local/lib/python3.10/dist-packages (from google-api-core[grpc]<3.0.0dev,>=1.26.0->google-cloud-aiplatform==1.7.1) (1.60.0)\n",
            "Requirement already satisfied: protobuf!=3.20.0,!=3.20.1,!=4.21.0,!=4.21.1,!=4.21.2,!=4.21.3,!=4.21.4,!=4.21.5,<5.0.0.dev0,>=3.19.5 in /usr/local/lib/python3.10/dist-packages (from google-api-core[grpc]<3.0.0dev,>=1.26.0->google-cloud-aiplatform==1.7.1) (3.20.3)\n",
            "Requirement already satisfied: google-auth<3.0.dev0,>=2.14.1 in /usr/local/lib/python3.10/dist-packages (from google-api-core[grpc]<3.0.0dev,>=1.26.0->google-cloud-aiplatform==1.7.1) (2.17.3)\n",
            "Requirement already satisfied: requests<3.0.0.dev0,>=2.18.0 in /usr/local/lib/python3.10/dist-packages (from google-api-core[grpc]<3.0.0dev,>=1.26.0->google-cloud-aiplatform==1.7.1) (2.31.0)\n",
            "Requirement already satisfied: grpcio<2.0dev,>=1.33.2 in /usr/local/lib/python3.10/dist-packages (from google-api-core[grpc]<3.0.0dev,>=1.26.0->google-cloud-aiplatform==1.7.1) (1.57.0)\n",
            "Requirement already satisfied: grpcio-status<2.0.dev0,>=1.33.2 in /usr/local/lib/python3.10/dist-packages (from google-api-core[grpc]<3.0.0dev,>=1.26.0->google-cloud-aiplatform==1.7.1) (1.48.2)\n",
            "Requirement already satisfied: google-cloud-core<3.0.0dev,>=1.4.1 in /usr/local/lib/python3.10/dist-packages (from google-cloud-bigquery<3.0.0dev,>=1.15.0->google-cloud-aiplatform==1.7.1) (2.3.3)\n",
            "Requirement already satisfied: google-resumable-media<3.0dev,>=0.6.0 in /usr/local/lib/python3.10/dist-packages (from google-cloud-bigquery<3.0.0dev,>=1.15.0->google-cloud-aiplatform==1.7.1) (2.6.0)\n",
            "Requirement already satisfied: python-dateutil<3.0dev,>=2.7.2 in /usr/local/lib/python3.10/dist-packages (from google-cloud-bigquery<3.0.0dev,>=1.15.0->google-cloud-aiplatform==1.7.1) (2.8.2)\n",
            "Requirement already satisfied: six in /usr/local/lib/python3.10/dist-packages (from google-cloud-storage<2.0.0dev,>=1.32.0->google-cloud-aiplatform==1.7.1) (1.16.0)\n",
            "Requirement already satisfied: pyparsing!=3.0.5,>=2.0.2 in /usr/local/lib/python3.10/dist-packages (from packaging>=14.3->google-cloud-aiplatform==1.7.1) (3.1.1)\n",
            "Requirement already satisfied: cachetools<6.0,>=2.0.0 in /usr/local/lib/python3.10/dist-packages (from google-auth<3.0.dev0,>=2.14.1->google-api-core[grpc]<3.0.0dev,>=1.26.0->google-cloud-aiplatform==1.7.1) (5.3.1)\n",
            "Requirement already satisfied: pyasn1-modules>=0.2.1 in /usr/local/lib/python3.10/dist-packages (from google-auth<3.0.dev0,>=2.14.1->google-api-core[grpc]<3.0.0dev,>=1.26.0->google-cloud-aiplatform==1.7.1) (0.3.0)\n",
            "Requirement already satisfied: rsa<5,>=3.1.4 in /usr/local/lib/python3.10/dist-packages (from google-auth<3.0.dev0,>=2.14.1->google-api-core[grpc]<3.0.0dev,>=1.26.0->google-cloud-aiplatform==1.7.1) (4.9)\n",
            "Requirement already satisfied: google-crc32c<2.0dev,>=1.0 in /usr/local/lib/python3.10/dist-packages (from google-resumable-media<3.0dev,>=0.6.0->google-cloud-bigquery<3.0.0dev,>=1.15.0->google-cloud-aiplatform==1.7.1) (1.5.0)\n",
            "Requirement already satisfied: charset-normalizer<4,>=2 in /usr/local/lib/python3.10/dist-packages (from requests<3.0.0.dev0,>=2.18.0->google-api-core[grpc]<3.0.0dev,>=1.26.0->google-cloud-aiplatform==1.7.1) (3.2.0)\n",
            "Requirement already satisfied: idna<4,>=2.5 in /usr/local/lib/python3.10/dist-packages (from requests<3.0.0.dev0,>=2.18.0->google-api-core[grpc]<3.0.0dev,>=1.26.0->google-cloud-aiplatform==1.7.1) (3.4)\n",
            "Requirement already satisfied: urllib3<3,>=1.21.1 in /usr/local/lib/python3.10/dist-packages (from requests<3.0.0.dev0,>=2.18.0->google-api-core[grpc]<3.0.0dev,>=1.26.0->google-cloud-aiplatform==1.7.1) (1.26.16)\n",
            "Requirement already satisfied: certifi>=2017.4.17 in /usr/local/lib/python3.10/dist-packages (from requests<3.0.0.dev0,>=2.18.0->google-api-core[grpc]<3.0.0dev,>=1.26.0->google-cloud-aiplatform==1.7.1) (2023.7.22)\n",
            "Requirement already satisfied: pyasn1<0.6.0,>=0.4.6 in /usr/local/lib/python3.10/dist-packages (from pyasn1-modules>=0.2.1->google-auth<3.0.dev0,>=2.14.1->google-api-core[grpc]<3.0.0dev,>=1.26.0->google-cloud-aiplatform==1.7.1) (0.5.0)\n",
            "Installing collected packages: google-cloud-storage, google-cloud-bigquery, google-cloud-aiplatform\n",
            "  Attempting uninstall: google-cloud-storage\n",
            "    Found existing installation: google-cloud-storage 2.8.0\n",
            "    Uninstalling google-cloud-storage-2.8.0:\n",
            "      Successfully uninstalled google-cloud-storage-2.8.0\n",
            "  Attempting uninstall: google-cloud-bigquery\n",
            "    Found existing installation: google-cloud-bigquery 3.10.0\n",
            "    Uninstalling google-cloud-bigquery-3.10.0:\n",
            "      Successfully uninstalled google-cloud-bigquery-3.10.0\n",
            "  Attempting uninstall: google-cloud-aiplatform\n",
            "    Found existing installation: google-cloud-aiplatform 1.21.0\n",
            "    Uninstalling google-cloud-aiplatform-1.21.0:\n",
            "      Successfully uninstalled google-cloud-aiplatform-1.21.0\n",
            "\u001b[31mERROR: pip's dependency resolver does not currently take into account all the packages that are installed. This behaviour is the source of the following dependency conflicts.\n",
            "google-cloud-pipeline-components 1.0.27 requires google-cloud-aiplatform<2,>=1.11.0, but you have google-cloud-aiplatform 1.7.1 which is incompatible.\n",
            "kfp 2.2.0 requires google-cloud-storage<3,>=2.2.1, but you have google-cloud-storage 1.44.0 which is incompatible.\u001b[0m\u001b[31m\n",
            "\u001b[0mSuccessfully installed google-cloud-aiplatform-1.7.1 google-cloud-bigquery-2.34.4 google-cloud-storage-1.44.0\n"
          ]
        },
        {
          "output_type": "display_data",
          "data": {
            "application/vnd.colab-display-data+json": {
              "pip_warning": {
                "packages": [
                  "google"
                ]
              }
            }
          },
          "metadata": {}
        },
        {
          "output_type": "stream",
          "name": "stdout",
          "text": [
            "Collecting google-cloud-pipeline-components==0.2.0\n",
            "  Downloading google_cloud_pipeline_components-0.2.0-py3-none-any.whl (135 kB)\n",
            "\u001b[2K     \u001b[90m━━━━━━━━━━━━━━━━━━━━━━━━━━━━━━━━━━━━━━━\u001b[0m \u001b[32m135.0/135.0 kB\u001b[0m \u001b[31m4.2 MB/s\u001b[0m eta \u001b[36m0:00:00\u001b[0m\n",
            "\u001b[?25hCollecting google-api-core<2dev,>=1.26.0 (from google-cloud-pipeline-components==0.2.0)\n",
            "  Downloading google_api_core-1.34.0-py3-none-any.whl (120 kB)\n",
            "\u001b[2K     \u001b[90m━━━━━━━━━━━━━━━━━━━━━━━━━━━━━━━━━━━━━━━\u001b[0m \u001b[32m120.2/120.2 kB\u001b[0m \u001b[31m8.7 MB/s\u001b[0m eta \u001b[36m0:00:00\u001b[0m\n",
            "\u001b[?25hCollecting kfp<2.0.0,>=1.8.9 (from google-cloud-pipeline-components==0.2.0)\n",
            "  Downloading kfp-1.8.22.tar.gz (304 kB)\n",
            "\u001b[2K     \u001b[90m━━━━━━━━━━━━━━━━━━━━━━━━━━━━━━━━━━━━━━\u001b[0m \u001b[32m304.9/304.9 kB\u001b[0m \u001b[31m11.5 MB/s\u001b[0m eta \u001b[36m0:00:00\u001b[0m\n",
            "\u001b[?25h  Preparing metadata (setup.py) ... \u001b[?25l\u001b[?25hdone\n",
            "Requirement already satisfied: google-cloud-aiplatform>=1.4.3 in /usr/local/lib/python3.10/dist-packages (from google-cloud-pipeline-components==0.2.0) (1.7.1)\n",
            "Requirement already satisfied: google-cloud-notebooks>=0.4.0 in /usr/local/lib/python3.10/dist-packages (from google-cloud-pipeline-components==0.2.0) (1.8.1)\n",
            "Requirement already satisfied: googleapis-common-protos<2.0dev,>=1.56.2 in /usr/local/lib/python3.10/dist-packages (from google-api-core<2dev,>=1.26.0->google-cloud-pipeline-components==0.2.0) (1.60.0)\n",
            "Requirement already satisfied: protobuf!=3.20.0,!=3.20.1,!=4.21.0,!=4.21.1,!=4.21.2,!=4.21.3,!=4.21.4,!=4.21.5,<4.0.0dev,>=3.19.5 in /usr/local/lib/python3.10/dist-packages (from google-api-core<2dev,>=1.26.0->google-cloud-pipeline-components==0.2.0) (3.20.3)\n",
            "Requirement already satisfied: google-auth<3.0dev,>=1.25.0 in /usr/local/lib/python3.10/dist-packages (from google-api-core<2dev,>=1.26.0->google-cloud-pipeline-components==0.2.0) (2.17.3)\n",
            "Requirement already satisfied: requests<3.0.0dev,>=2.18.0 in /usr/local/lib/python3.10/dist-packages (from google-api-core<2dev,>=1.26.0->google-cloud-pipeline-components==0.2.0) (2.31.0)\n",
            "Requirement already satisfied: google-api-core[grpc]<3.0.0dev,>=1.26.0 in /usr/local/lib/python3.10/dist-packages (from google-cloud-aiplatform>=1.4.3->google-cloud-pipeline-components==0.2.0) (2.11.1)\n",
            "Requirement already satisfied: proto-plus>=1.10.1 in /usr/local/lib/python3.10/dist-packages (from google-cloud-aiplatform>=1.4.3->google-cloud-pipeline-components==0.2.0) (1.22.3)\n",
            "Requirement already satisfied: packaging>=14.3 in /usr/local/lib/python3.10/dist-packages (from google-cloud-aiplatform>=1.4.3->google-cloud-pipeline-components==0.2.0) (21.3)\n",
            "Requirement already satisfied: google-cloud-storage<2.0.0dev,>=1.32.0 in /usr/local/lib/python3.10/dist-packages (from google-cloud-aiplatform>=1.4.3->google-cloud-pipeline-components==0.2.0) (1.44.0)\n",
            "Requirement already satisfied: google-cloud-bigquery<3.0.0dev,>=1.15.0 in /usr/local/lib/python3.10/dist-packages (from google-cloud-aiplatform>=1.4.3->google-cloud-pipeline-components==0.2.0) (2.34.4)\n",
            "Requirement already satisfied: grpc-google-iam-v1<1.0.0dev,>=0.12.4 in /usr/local/lib/python3.10/dist-packages (from google-cloud-notebooks>=0.4.0->google-cloud-pipeline-components==0.2.0) (0.12.6)\n",
            "Requirement already satisfied: absl-py<2,>=0.9 in /usr/local/lib/python3.10/dist-packages (from kfp<2.0.0,>=1.8.9->google-cloud-pipeline-components==0.2.0) (1.4.0)\n",
            "Requirement already satisfied: PyYAML<7,>=5.3 in /usr/local/lib/python3.10/dist-packages (from kfp<2.0.0,>=1.8.9->google-cloud-pipeline-components==0.2.0) (6.0.1)\n",
            "Collecting kubernetes<26,>=8.0.0 (from kfp<2.0.0,>=1.8.9->google-cloud-pipeline-components==0.2.0)\n",
            "  Downloading kubernetes-25.3.0-py2.py3-none-any.whl (1.4 MB)\n",
            "\u001b[2K     \u001b[90m━━━━━━━━━━━━━━━━━━━━━━━━━━━━━━━━━━━━━━━━\u001b[0m \u001b[32m1.4/1.4 MB\u001b[0m \u001b[31m16.4 MB/s\u001b[0m eta \u001b[36m0:00:00\u001b[0m\n",
            "\u001b[?25hCollecting google-api-python-client<2,>=1.7.8 (from kfp<2.0.0,>=1.8.9->google-cloud-pipeline-components==0.2.0)\n",
            "  Downloading google_api_python_client-1.12.11-py2.py3-none-any.whl (62 kB)\n",
            "\u001b[2K     \u001b[90m━━━━━━━━━━━━━━━━━━━━━━━━━━━━━━━━━━━━━━━━\u001b[0m \u001b[32m62.1/62.1 kB\u001b[0m \u001b[31m8.4 MB/s\u001b[0m eta \u001b[36m0:00:00\u001b[0m\n",
            "\u001b[?25hRequirement already satisfied: requests-toolbelt<1,>=0.8.0 in /usr/local/lib/python3.10/dist-packages (from kfp<2.0.0,>=1.8.9->google-cloud-pipeline-components==0.2.0) (0.10.1)\n",
            "Requirement already satisfied: cloudpickle<3,>=2.0.0 in /usr/local/lib/python3.10/dist-packages (from kfp<2.0.0,>=1.8.9->google-cloud-pipeline-components==0.2.0) (2.2.1)\n",
            "Collecting kfp-server-api<2.0.0,>=1.1.2 (from kfp<2.0.0,>=1.8.9->google-cloud-pipeline-components==0.2.0)\n",
            "  Downloading kfp-server-api-1.8.5.tar.gz (58 kB)\n",
            "\u001b[2K     \u001b[90m━━━━━━━━━━━━━━━━━━━━━━━━━━━━━━━━━━━━━━━━\u001b[0m \u001b[32m58.1/58.1 kB\u001b[0m \u001b[31m8.5 MB/s\u001b[0m eta \u001b[36m0:00:00\u001b[0m\n",
            "\u001b[?25h  Preparing metadata (setup.py) ... \u001b[?25l\u001b[?25hdone\n",
            "Requirement already satisfied: jsonschema<5,>=3.0.1 in /usr/local/lib/python3.10/dist-packages (from kfp<2.0.0,>=1.8.9->google-cloud-pipeline-components==0.2.0) (4.19.0)\n",
            "Requirement already satisfied: tabulate<1,>=0.8.6 in /usr/local/lib/python3.10/dist-packages (from kfp<2.0.0,>=1.8.9->google-cloud-pipeline-components==0.2.0) (0.9.0)\n",
            "Requirement already satisfied: click<9,>=7.1.2 in /usr/local/lib/python3.10/dist-packages (from kfp<2.0.0,>=1.8.9->google-cloud-pipeline-components==0.2.0) (8.1.7)\n",
            "Collecting Deprecated<2,>=1.2.7 (from kfp<2.0.0,>=1.8.9->google-cloud-pipeline-components==0.2.0)\n",
            "  Downloading Deprecated-1.2.14-py2.py3-none-any.whl (9.6 kB)\n",
            "Collecting strip-hints<1,>=0.1.8 (from kfp<2.0.0,>=1.8.9->google-cloud-pipeline-components==0.2.0)\n",
            "  Downloading strip-hints-0.1.10.tar.gz (29 kB)\n",
            "  Preparing metadata (setup.py) ... \u001b[?25l\u001b[?25hdone\n",
            "Requirement already satisfied: docstring-parser<1,>=0.7.3 in /usr/local/lib/python3.10/dist-packages (from kfp<2.0.0,>=1.8.9->google-cloud-pipeline-components==0.2.0) (0.15)\n",
            "Collecting kfp-pipeline-spec<0.2.0,>=0.1.16 (from kfp<2.0.0,>=1.8.9->google-cloud-pipeline-components==0.2.0)\n",
            "  Downloading kfp_pipeline_spec-0.1.16-py3-none-any.whl (19 kB)\n",
            "Collecting fire<1,>=0.3.1 (from kfp<2.0.0,>=1.8.9->google-cloud-pipeline-components==0.2.0)\n",
            "  Downloading fire-0.5.0.tar.gz (88 kB)\n",
            "\u001b[2K     \u001b[90m━━━━━━━━━━━━━━━━━━━━━━━━━━━━━━━━━━━━━━━━\u001b[0m \u001b[32m88.3/88.3 kB\u001b[0m \u001b[31m13.6 MB/s\u001b[0m eta \u001b[36m0:00:00\u001b[0m\n",
            "\u001b[?25h  Preparing metadata (setup.py) ... \u001b[?25l\u001b[?25hdone\n",
            "Collecting uritemplate<4,>=3.0.1 (from kfp<2.0.0,>=1.8.9->google-cloud-pipeline-components==0.2.0)\n",
            "  Downloading uritemplate-3.0.1-py2.py3-none-any.whl (15 kB)\n",
            "Requirement already satisfied: urllib3<2 in /usr/local/lib/python3.10/dist-packages (from kfp<2.0.0,>=1.8.9->google-cloud-pipeline-components==0.2.0) (1.26.16)\n",
            "Requirement already satisfied: pydantic<2,>=1.8.2 in /usr/local/lib/python3.10/dist-packages (from kfp<2.0.0,>=1.8.9->google-cloud-pipeline-components==0.2.0) (1.10.12)\n",
            "Requirement already satisfied: typer<1.0,>=0.3.2 in /usr/local/lib/python3.10/dist-packages (from kfp<2.0.0,>=1.8.9->google-cloud-pipeline-components==0.2.0) (0.9.0)\n",
            "Requirement already satisfied: wrapt<2,>=1.10 in /usr/local/lib/python3.10/dist-packages (from Deprecated<2,>=1.2.7->kfp<2.0.0,>=1.8.9->google-cloud-pipeline-components==0.2.0) (1.15.0)\n",
            "Requirement already satisfied: six in /usr/local/lib/python3.10/dist-packages (from fire<1,>=0.3.1->kfp<2.0.0,>=1.8.9->google-cloud-pipeline-components==0.2.0) (1.16.0)\n",
            "Requirement already satisfied: termcolor in /usr/local/lib/python3.10/dist-packages (from fire<1,>=0.3.1->kfp<2.0.0,>=1.8.9->google-cloud-pipeline-components==0.2.0) (2.3.0)\n",
            "INFO: pip is looking at multiple versions of google-api-core[grpc] to determine which version is compatible with other requirements. This could take a while.\n",
            "Collecting google-api-core[grpc]<3.0.0dev,>=1.26.0 (from google-cloud-aiplatform>=1.4.3->google-cloud-pipeline-components==0.2.0)\n",
            "  Downloading google_api_core-2.11.0-py3-none-any.whl (120 kB)\n",
            "\u001b[2K     \u001b[90m━━━━━━━━━━━━━━━━━━━━━━━━━━━━━━━━━━━━━━\u001b[0m \u001b[32m120.3/120.3 kB\u001b[0m \u001b[31m14.6 MB/s\u001b[0m eta \u001b[36m0:00:00\u001b[0m\n",
            "\u001b[?25hRequirement already satisfied: grpcio<2.0dev,>=1.33.2 in /usr/local/lib/python3.10/dist-packages (from google-api-core<2dev,>=1.26.0->google-cloud-pipeline-components==0.2.0) (1.57.0)\n",
            "Requirement already satisfied: grpcio-status<2.0dev,>=1.33.2 in /usr/local/lib/python3.10/dist-packages (from google-api-core<2dev,>=1.26.0->google-cloud-pipeline-components==0.2.0) (1.48.2)\n",
            "Requirement already satisfied: httplib2<1dev,>=0.15.0 in /usr/local/lib/python3.10/dist-packages (from google-api-python-client<2,>=1.7.8->kfp<2.0.0,>=1.8.9->google-cloud-pipeline-components==0.2.0) (0.22.0)\n",
            "Requirement already satisfied: google-auth-httplib2>=0.0.3 in /usr/local/lib/python3.10/dist-packages (from google-api-python-client<2,>=1.7.8->kfp<2.0.0,>=1.8.9->google-cloud-pipeline-components==0.2.0) (0.1.0)\n",
            "Requirement already satisfied: cachetools<6.0,>=2.0.0 in /usr/local/lib/python3.10/dist-packages (from google-auth<3.0dev,>=1.25.0->google-api-core<2dev,>=1.26.0->google-cloud-pipeline-components==0.2.0) (5.3.1)\n",
            "Requirement already satisfied: pyasn1-modules>=0.2.1 in /usr/local/lib/python3.10/dist-packages (from google-auth<3.0dev,>=1.25.0->google-api-core<2dev,>=1.26.0->google-cloud-pipeline-components==0.2.0) (0.3.0)\n",
            "Requirement already satisfied: rsa<5,>=3.1.4 in /usr/local/lib/python3.10/dist-packages (from google-auth<3.0dev,>=1.25.0->google-api-core<2dev,>=1.26.0->google-cloud-pipeline-components==0.2.0) (4.9)\n",
            "Requirement already satisfied: google-cloud-core<3.0.0dev,>=1.4.1 in /usr/local/lib/python3.10/dist-packages (from google-cloud-bigquery<3.0.0dev,>=1.15.0->google-cloud-aiplatform>=1.4.3->google-cloud-pipeline-components==0.2.0) (2.3.3)\n",
            "Requirement already satisfied: google-resumable-media<3.0dev,>=0.6.0 in /usr/local/lib/python3.10/dist-packages (from google-cloud-bigquery<3.0.0dev,>=1.15.0->google-cloud-aiplatform>=1.4.3->google-cloud-pipeline-components==0.2.0) (2.6.0)\n",
            "Requirement already satisfied: python-dateutil<3.0dev,>=2.7.2 in /usr/local/lib/python3.10/dist-packages (from google-cloud-bigquery<3.0.0dev,>=1.15.0->google-cloud-aiplatform>=1.4.3->google-cloud-pipeline-components==0.2.0) (2.8.2)\n",
            "Requirement already satisfied: attrs>=22.2.0 in /usr/local/lib/python3.10/dist-packages (from jsonschema<5,>=3.0.1->kfp<2.0.0,>=1.8.9->google-cloud-pipeline-components==0.2.0) (23.1.0)\n",
            "Requirement already satisfied: jsonschema-specifications>=2023.03.6 in /usr/local/lib/python3.10/dist-packages (from jsonschema<5,>=3.0.1->kfp<2.0.0,>=1.8.9->google-cloud-pipeline-components==0.2.0) (2023.7.1)\n",
            "Requirement already satisfied: referencing>=0.28.4 in /usr/local/lib/python3.10/dist-packages (from jsonschema<5,>=3.0.1->kfp<2.0.0,>=1.8.9->google-cloud-pipeline-components==0.2.0) (0.30.2)\n",
            "Requirement already satisfied: rpds-py>=0.7.1 in /usr/local/lib/python3.10/dist-packages (from jsonschema<5,>=3.0.1->kfp<2.0.0,>=1.8.9->google-cloud-pipeline-components==0.2.0) (0.10.2)\n",
            "Requirement already satisfied: certifi in /usr/local/lib/python3.10/dist-packages (from kfp-server-api<2.0.0,>=1.1.2->kfp<2.0.0,>=1.8.9->google-cloud-pipeline-components==0.2.0) (2023.7.22)\n",
            "Requirement already satisfied: setuptools>=21.0.0 in /usr/local/lib/python3.10/dist-packages (from kubernetes<26,>=8.0.0->kfp<2.0.0,>=1.8.9->google-cloud-pipeline-components==0.2.0) (67.7.2)\n",
            "Requirement already satisfied: websocket-client!=0.40.0,!=0.41.*,!=0.42.*,>=0.32.0 in /usr/local/lib/python3.10/dist-packages (from kubernetes<26,>=8.0.0->kfp<2.0.0,>=1.8.9->google-cloud-pipeline-components==0.2.0) (1.6.2)\n",
            "Requirement already satisfied: requests-oauthlib in /usr/local/lib/python3.10/dist-packages (from kubernetes<26,>=8.0.0->kfp<2.0.0,>=1.8.9->google-cloud-pipeline-components==0.2.0) (1.3.1)\n",
            "Requirement already satisfied: pyparsing!=3.0.5,>=2.0.2 in /usr/local/lib/python3.10/dist-packages (from packaging>=14.3->google-cloud-aiplatform>=1.4.3->google-cloud-pipeline-components==0.2.0) (3.1.1)\n",
            "Requirement already satisfied: typing-extensions>=4.2.0 in /usr/local/lib/python3.10/dist-packages (from pydantic<2,>=1.8.2->kfp<2.0.0,>=1.8.9->google-cloud-pipeline-components==0.2.0) (4.5.0)\n",
            "Requirement already satisfied: charset-normalizer<4,>=2 in /usr/local/lib/python3.10/dist-packages (from requests<3.0.0dev,>=2.18.0->google-api-core<2dev,>=1.26.0->google-cloud-pipeline-components==0.2.0) (3.2.0)\n",
            "Requirement already satisfied: idna<4,>=2.5 in /usr/local/lib/python3.10/dist-packages (from requests<3.0.0dev,>=2.18.0->google-api-core<2dev,>=1.26.0->google-cloud-pipeline-components==0.2.0) (3.4)\n",
            "Requirement already satisfied: wheel in /usr/local/lib/python3.10/dist-packages (from strip-hints<1,>=0.1.8->kfp<2.0.0,>=1.8.9->google-cloud-pipeline-components==0.2.0) (0.41.2)\n",
            "Requirement already satisfied: google-crc32c<2.0dev,>=1.0 in /usr/local/lib/python3.10/dist-packages (from google-resumable-media<3.0dev,>=0.6.0->google-cloud-bigquery<3.0.0dev,>=1.15.0->google-cloud-aiplatform>=1.4.3->google-cloud-pipeline-components==0.2.0) (1.5.0)\n",
            "Requirement already satisfied: pyasn1<0.6.0,>=0.4.6 in /usr/local/lib/python3.10/dist-packages (from pyasn1-modules>=0.2.1->google-auth<3.0dev,>=1.25.0->google-api-core<2dev,>=1.26.0->google-cloud-pipeline-components==0.2.0) (0.5.0)\n",
            "Requirement already satisfied: oauthlib>=3.0.0 in /usr/local/lib/python3.10/dist-packages (from requests-oauthlib->kubernetes<26,>=8.0.0->kfp<2.0.0,>=1.8.9->google-cloud-pipeline-components==0.2.0) (3.2.2)\n",
            "Building wheels for collected packages: kfp, fire, kfp-server-api, strip-hints\n",
            "  Building wheel for kfp (setup.py) ... \u001b[?25l\u001b[?25hdone\n",
            "  Created wheel for kfp: filename=kfp-1.8.22-py3-none-any.whl size=426966 sha256=2f0ee2f39a4a00a48577b761f7082107255fe539330679a86e7a873cb42b2b97\n",
            "  Stored in directory: /root/.cache/pip/wheels/74/c0/fc/bf0ab209fd6ae814d7efbc821076e948c3e4884f846583ab58\n",
            "  Building wheel for fire (setup.py) ... \u001b[?25l\u001b[?25hdone\n",
            "  Created wheel for fire: filename=fire-0.5.0-py2.py3-none-any.whl size=116934 sha256=b088749cf489de53c8a25d871a4bcb4ea8e7425df40cae2043522347659027da\n",
            "  Stored in directory: /root/.cache/pip/wheels/90/d4/f7/9404e5db0116bd4d43e5666eaa3e70ab53723e1e3ea40c9a95\n",
            "  Building wheel for kfp-server-api (setup.py) ... \u001b[?25l\u001b[?25hdone\n",
            "  Created wheel for kfp-server-api: filename=kfp_server_api-1.8.5-py3-none-any.whl size=99696 sha256=71d60bbb9b0579c9678dbc6808e9914900bf5ce228c1fd44ef546f8e577a3676\n",
            "  Stored in directory: /root/.cache/pip/wheels/c5/97/d5/e8a0f596dc85f5cfe383c800fbf3e29a99853bb54e01f26fca\n",
            "  Building wheel for strip-hints (setup.py) ... \u001b[?25l\u001b[?25hdone\n",
            "  Created wheel for strip-hints: filename=strip_hints-0.1.10-py2.py3-none-any.whl size=22283 sha256=1e5d316d2d188dcfd89cb61345902dc6b9d670fad4b78e79a5691c2ee96af819\n",
            "  Stored in directory: /root/.cache/pip/wheels/19/fd/dc/1192a4b454695fa9f0c95b17597a44b200d9fcf0eeb771d104\n",
            "Successfully built kfp fire kfp-server-api strip-hints\n",
            "Installing collected packages: uritemplate, strip-hints, kfp-pipeline-spec, fire, Deprecated, kfp-server-api, kubernetes, google-api-core, google-api-python-client, kfp, google-cloud-pipeline-components\n",
            "  Attempting uninstall: uritemplate\n",
            "    Found existing installation: uritemplate 4.1.1\n",
            "    Uninstalling uritemplate-4.1.1:\n",
            "      Successfully uninstalled uritemplate-4.1.1\n",
            "  Attempting uninstall: kfp-pipeline-spec\n",
            "    Found existing installation: kfp-pipeline-spec 0.2.2\n",
            "    Uninstalling kfp-pipeline-spec-0.2.2:\n",
            "      Successfully uninstalled kfp-pipeline-spec-0.2.2\n",
            "  Attempting uninstall: kfp-server-api\n",
            "    Found existing installation: kfp-server-api 2.0.1\n",
            "    Uninstalling kfp-server-api-2.0.1:\n",
            "      Successfully uninstalled kfp-server-api-2.0.1\n",
            "  Attempting uninstall: kubernetes\n",
            "    Found existing installation: kubernetes 26.1.0\n",
            "    Uninstalling kubernetes-26.1.0:\n",
            "      Successfully uninstalled kubernetes-26.1.0\n",
            "  Attempting uninstall: google-api-core\n",
            "    Found existing installation: google-api-core 2.11.1\n",
            "    Uninstalling google-api-core-2.11.1:\n",
            "      Successfully uninstalled google-api-core-2.11.1\n",
            "  Attempting uninstall: google-api-python-client\n",
            "    Found existing installation: google-api-python-client 2.84.0\n",
            "    Uninstalling google-api-python-client-2.84.0:\n",
            "      Successfully uninstalled google-api-python-client-2.84.0\n",
            "  Attempting uninstall: kfp\n",
            "    Found existing installation: kfp 2.2.0\n",
            "    Uninstalling kfp-2.2.0:\n",
            "      Successfully uninstalled kfp-2.2.0\n",
            "  Attempting uninstall: google-cloud-pipeline-components\n",
            "    Found existing installation: google-cloud-pipeline-components 1.0.27\n",
            "    Uninstalling google-cloud-pipeline-components-1.0.27:\n",
            "      Successfully uninstalled google-cloud-pipeline-components-1.0.27\n",
            "Successfully installed Deprecated-1.2.14 fire-0.5.0 google-api-core-1.34.0 google-api-python-client-1.12.11 google-cloud-pipeline-components-0.2.0 kfp-1.8.22 kfp-pipeline-spec-0.1.16 kfp-server-api-1.8.5 kubernetes-25.3.0 strip-hints-0.1.10 uritemplate-3.0.1\n"
          ]
        },
        {
          "output_type": "display_data",
          "data": {
            "application/vnd.colab-display-data+json": {
              "pip_warning": {
                "packages": [
                  "google",
                  "kfp",
                  "kfp_server_api",
                  "kubernetes"
                ]
              }
            }
          },
          "metadata": {}
        },
        {
          "output_type": "stream",
          "name": "stdout",
          "text": [
            "Collecting kfp==1.8.8\n",
            "  Downloading kfp-1.8.8.tar.gz (296 kB)\n",
            "\u001b[2K     \u001b[90m━━━━━━━━━━━━━━━━━━━━━━━━━━━━━━━━━━━━━━━\u001b[0m \u001b[32m296.2/296.2 kB\u001b[0m \u001b[31m6.7 MB/s\u001b[0m eta \u001b[36m0:00:00\u001b[0m\n",
            "\u001b[?25h  Preparing metadata (setup.py) ... \u001b[?25l\u001b[?25hdone\n",
            "Collecting absl-py<=0.11,>=0.9 (from kfp==1.8.8)\n",
            "  Downloading absl_py-0.11.0-py3-none-any.whl (127 kB)\n",
            "\u001b[2K     \u001b[90m━━━━━━━━━━━━━━━━━━━━━━━━━━━━━━━━━━━━━━\u001b[0m \u001b[32m127.8/127.8 kB\u001b[0m \u001b[31m17.3 MB/s\u001b[0m eta \u001b[36m0:00:00\u001b[0m\n",
            "\u001b[?25hCollecting PyYAML<6,>=5.3 (from kfp==1.8.8)\n",
            "  Using cached PyYAML-5.4.1.tar.gz (175 kB)\n",
            "  Installing build dependencies ... \u001b[?25l\u001b[?25hdone\n",
            "  \u001b[1;31merror\u001b[0m: \u001b[1msubprocess-exited-with-error\u001b[0m\n",
            "  \n",
            "  \u001b[31m×\u001b[0m \u001b[32mGetting requirements to build wheel\u001b[0m did not run successfully.\n",
            "  \u001b[31m│\u001b[0m exit code: \u001b[1;36m1\u001b[0m\n",
            "  \u001b[31m╰─>\u001b[0m See above for output.\n",
            "  \n",
            "  \u001b[1;35mnote\u001b[0m: This error originates from a subprocess, and is likely not a problem with pip.\n",
            "  Getting requirements to build wheel ... \u001b[?25l\u001b[?25herror\n",
            "\u001b[1;31merror\u001b[0m: \u001b[1msubprocess-exited-with-error\u001b[0m\n",
            "\n",
            "\u001b[31m×\u001b[0m \u001b[32mGetting requirements to build wheel\u001b[0m did not run successfully.\n",
            "\u001b[31m│\u001b[0m exit code: \u001b[1;36m1\u001b[0m\n",
            "\u001b[31m╰─>\u001b[0m See above for output.\n",
            "\n",
            "\u001b[1;35mnote\u001b[0m: This error originates from a subprocess, and is likely not a problem with pip.\n"
          ]
        }
      ]
    },
    {
      "cell_type": "markdown",
      "metadata": {
        "id": "DJyao5kfylbI"
      },
      "source": [
        "**Please restart your Colab runtime before importing the modules**\n",
        "\n",
        "Otherwise you might get a version conflict related error."
      ]
    },
    {
      "cell_type": "code",
      "metadata": {
        "id": "1mcs7B5VUox_"
      },
      "source": [
        "import kfp\n",
        "\n",
        "from typing import NamedTuple\n",
        "\n",
        "from kfp.v2.dsl import pipeline\n",
        "from kfp.v2.dsl import component\n",
        "from kfp.v2.dsl import OutputPath\n",
        "from kfp.v2.dsl import InputPath\n",
        "\n",
        "from kfp.v2.dsl import Output\n",
        "from kfp.v2.dsl import Metrics\n",
        "\n",
        "from kfp.v2 import compiler\n",
        "from kfp.v2.google.client import AIPlatformClient\n",
        "\n",
        "\n",
        "from google.cloud import aiplatform\n",
        "from google.cloud.aiplatform import pipeline_jobs\n",
        "\n",
        "from google_cloud_pipeline_components import aiplatform as gcc_aip\n",
        "\n",
        "#from google_cloud_pipeline_components.v1.model import ModelUploadOp"
      ],
      "execution_count": 10,
      "outputs": []
    },
    {
      "cell_type": "markdown",
      "metadata": {
        "id": "L21RLrfDFdcE"
      },
      "source": [
        "# Authentication"
      ]
    },
    {
      "cell_type": "code",
      "metadata": {
        "colab": {
          "base_uri": "https://localhost:8080/"
        },
        "id": "Z0RNBXMlf3Gl",
        "outputId": "44f46b30-decd-41d8-dfc2-31d3a88dea15"
      },
      "source": [
        "from google.colab import auth\n",
        "auth.authenticate_user()\n",
        "\n",
        "credentials = auth._check_adc()\n",
        "print(credentials)"
      ],
      "execution_count": 7,
      "outputs": [
        {
          "output_type": "stream",
          "name": "stdout",
          "text": [
            "True\n"
          ]
        }
      ]
    },
    {
      "cell_type": "markdown",
      "metadata": {
        "id": "CGReMEivS070"
      },
      "source": [
        "set the project id"
      ]
    },
    {
      "cell_type": "code",
      "metadata": {
        "id": "LYz_UaJ1S0QX"
      },
      "source": [
        "PROJECT_ID = \"unified-poet-399716\"\n",
        "PIPELINE_ROOT = \"gs://data_iris/\""
      ],
      "execution_count": 8,
      "outputs": []
    },
    {
      "cell_type": "markdown",
      "metadata": {
        "id": "pD8XJufeSDAm"
      },
      "source": [
        "# Clients"
      ]
    },
    {
      "cell_type": "code",
      "metadata": {
        "id": "_v5AkYzaFb3Q"
      },
      "source": [
        "# use this instead\n",
        "aiplatform.init(project=PROJECT_ID,\n",
        "                location='us-central1')"
      ],
      "execution_count": 11,
      "outputs": []
    },
    {
      "cell_type": "markdown",
      "metadata": {
        "id": "ckZCJavxBtf7"
      },
      "source": [
        "# Modelo"
      ]
    },
    {
      "cell_type": "markdown",
      "metadata": {
        "id": "gCymNXQuW15K"
      },
      "source": [
        "## Dependencies"
      ]
    },
    {
      "cell_type": "code",
      "metadata": {
        "id": "CLJqZSzYBu2y"
      },
      "source": [
        "from typing import NamedTuple\n",
        "\n",
        "from kfp.v2 import dsl\n",
        "from kfp.v2.dsl import (Artifact,\n",
        "                        Dataset,\n",
        "                        Input,\n",
        "                        Model,\n",
        "                        Output,\n",
        "                        Metrics,\n",
        "                        ClassificationMetrics,\n",
        "                        component,\n",
        "                        Markdown)\n",
        "\n",
        "from kfp.v2 import compiler"
      ],
      "execution_count": 1,
      "outputs": []
    },
    {
      "cell_type": "markdown",
      "source": [
        "## EDA"
      ],
      "metadata": {
        "id": "MHvPuSoU4JNp"
      }
    },
    {
      "cell_type": "markdown",
      "source": [
        "Importamos el dataset almacenado en Cloud Storage"
      ],
      "metadata": {
        "id": "FBsuR2uk5VAy"
      }
    },
    {
      "cell_type": "code",
      "source": [
        "import os\n",
        "\n",
        "os.environ[\"GOOGLE_APPLICATION_CREDENTIALS\"] = \"unified-poet-399716-a8f36e2995f2.json\""
      ],
      "metadata": {
        "id": "09FVYuEQ4VPx"
      },
      "execution_count": 38,
      "outputs": []
    },
    {
      "cell_type": "code",
      "source": [
        "from google.cloud import storage\n",
        "import pandas as pd\n",
        "from io import StringIO\n",
        "\n",
        "def read_data_from_gcs(bucket_name, file_name):\n",
        "    storage_client = storage.Client()\n",
        "    bucket = storage_client.get_bucket(bucket_name)\n",
        "    blob = bucket.blob(file_name)\n",
        "    content = blob.download_as_text()\n",
        "    return pd.read_csv(StringIO(content))\n",
        "\n",
        "# Usar la función\n",
        "bucket_name = \"data_iris\"\n",
        "file_name = \"iris.data\"\n",
        "df = read_data_from_gcs(bucket_name, file_name)"
      ],
      "metadata": {
        "id": "sjcaiVP_4elp"
      },
      "execution_count": 39,
      "outputs": []
    },
    {
      "cell_type": "code",
      "source": [
        "column_names = [\"sepal_length\", \"sepal_width\", \"petal_length\", \"petal_width\", \"species\"]\n",
        "df.columns = column_names"
      ],
      "metadata": {
        "id": "heHhHGi94gIi"
      },
      "execution_count": 40,
      "outputs": []
    },
    {
      "cell_type": "code",
      "source": [
        "df.head()"
      ],
      "metadata": {
        "colab": {
          "base_uri": "https://localhost:8080/",
          "height": 206
        },
        "id": "bYv2pk8I4imn",
        "outputId": "55071479-11a9-4049-f722-ffd3611a0144"
      },
      "execution_count": 41,
      "outputs": [
        {
          "output_type": "execute_result",
          "data": {
            "text/plain": [
              "   sepal_length  sepal_width  petal_length  petal_width      species\n",
              "0           4.9          3.0           1.4          0.2  Iris-setosa\n",
              "1           4.7          3.2           1.3          0.2  Iris-setosa\n",
              "2           4.6          3.1           1.5          0.2  Iris-setosa\n",
              "3           5.0          3.6           1.4          0.2  Iris-setosa\n",
              "4           5.4          3.9           1.7          0.4  Iris-setosa"
            ],
            "text/html": [
              "\n",
              "  <div id=\"df-2b813132-2b75-4363-a2bb-7daa1224d99f\" class=\"colab-df-container\">\n",
              "    <div>\n",
              "<style scoped>\n",
              "    .dataframe tbody tr th:only-of-type {\n",
              "        vertical-align: middle;\n",
              "    }\n",
              "\n",
              "    .dataframe tbody tr th {\n",
              "        vertical-align: top;\n",
              "    }\n",
              "\n",
              "    .dataframe thead th {\n",
              "        text-align: right;\n",
              "    }\n",
              "</style>\n",
              "<table border=\"1\" class=\"dataframe\">\n",
              "  <thead>\n",
              "    <tr style=\"text-align: right;\">\n",
              "      <th></th>\n",
              "      <th>sepal_length</th>\n",
              "      <th>sepal_width</th>\n",
              "      <th>petal_length</th>\n",
              "      <th>petal_width</th>\n",
              "      <th>species</th>\n",
              "    </tr>\n",
              "  </thead>\n",
              "  <tbody>\n",
              "    <tr>\n",
              "      <th>0</th>\n",
              "      <td>4.9</td>\n",
              "      <td>3.0</td>\n",
              "      <td>1.4</td>\n",
              "      <td>0.2</td>\n",
              "      <td>Iris-setosa</td>\n",
              "    </tr>\n",
              "    <tr>\n",
              "      <th>1</th>\n",
              "      <td>4.7</td>\n",
              "      <td>3.2</td>\n",
              "      <td>1.3</td>\n",
              "      <td>0.2</td>\n",
              "      <td>Iris-setosa</td>\n",
              "    </tr>\n",
              "    <tr>\n",
              "      <th>2</th>\n",
              "      <td>4.6</td>\n",
              "      <td>3.1</td>\n",
              "      <td>1.5</td>\n",
              "      <td>0.2</td>\n",
              "      <td>Iris-setosa</td>\n",
              "    </tr>\n",
              "    <tr>\n",
              "      <th>3</th>\n",
              "      <td>5.0</td>\n",
              "      <td>3.6</td>\n",
              "      <td>1.4</td>\n",
              "      <td>0.2</td>\n",
              "      <td>Iris-setosa</td>\n",
              "    </tr>\n",
              "    <tr>\n",
              "      <th>4</th>\n",
              "      <td>5.4</td>\n",
              "      <td>3.9</td>\n",
              "      <td>1.7</td>\n",
              "      <td>0.4</td>\n",
              "      <td>Iris-setosa</td>\n",
              "    </tr>\n",
              "  </tbody>\n",
              "</table>\n",
              "</div>\n",
              "    <div class=\"colab-df-buttons\">\n",
              "\n",
              "  <div class=\"colab-df-container\">\n",
              "    <button class=\"colab-df-convert\" onclick=\"convertToInteractive('df-2b813132-2b75-4363-a2bb-7daa1224d99f')\"\n",
              "            title=\"Convert this dataframe to an interactive table.\"\n",
              "            style=\"display:none;\">\n",
              "\n",
              "  <svg xmlns=\"http://www.w3.org/2000/svg\" height=\"24px\" viewBox=\"0 -960 960 960\">\n",
              "    <path d=\"M120-120v-720h720v720H120Zm60-500h600v-160H180v160Zm220 220h160v-160H400v160Zm0 220h160v-160H400v160ZM180-400h160v-160H180v160Zm440 0h160v-160H620v160ZM180-180h160v-160H180v160Zm440 0h160v-160H620v160Z\"/>\n",
              "  </svg>\n",
              "    </button>\n",
              "\n",
              "  <style>\n",
              "    .colab-df-container {\n",
              "      display:flex;\n",
              "      gap: 12px;\n",
              "    }\n",
              "\n",
              "    .colab-df-convert {\n",
              "      background-color: #E8F0FE;\n",
              "      border: none;\n",
              "      border-radius: 50%;\n",
              "      cursor: pointer;\n",
              "      display: none;\n",
              "      fill: #1967D2;\n",
              "      height: 32px;\n",
              "      padding: 0 0 0 0;\n",
              "      width: 32px;\n",
              "    }\n",
              "\n",
              "    .colab-df-convert:hover {\n",
              "      background-color: #E2EBFA;\n",
              "      box-shadow: 0px 1px 2px rgba(60, 64, 67, 0.3), 0px 1px 3px 1px rgba(60, 64, 67, 0.15);\n",
              "      fill: #174EA6;\n",
              "    }\n",
              "\n",
              "    .colab-df-buttons div {\n",
              "      margin-bottom: 4px;\n",
              "    }\n",
              "\n",
              "    [theme=dark] .colab-df-convert {\n",
              "      background-color: #3B4455;\n",
              "      fill: #D2E3FC;\n",
              "    }\n",
              "\n",
              "    [theme=dark] .colab-df-convert:hover {\n",
              "      background-color: #434B5C;\n",
              "      box-shadow: 0px 1px 3px 1px rgba(0, 0, 0, 0.15);\n",
              "      filter: drop-shadow(0px 1px 2px rgba(0, 0, 0, 0.3));\n",
              "      fill: #FFFFFF;\n",
              "    }\n",
              "  </style>\n",
              "\n",
              "    <script>\n",
              "      const buttonEl =\n",
              "        document.querySelector('#df-2b813132-2b75-4363-a2bb-7daa1224d99f button.colab-df-convert');\n",
              "      buttonEl.style.display =\n",
              "        google.colab.kernel.accessAllowed ? 'block' : 'none';\n",
              "\n",
              "      async function convertToInteractive(key) {\n",
              "        const element = document.querySelector('#df-2b813132-2b75-4363-a2bb-7daa1224d99f');\n",
              "        const dataTable =\n",
              "          await google.colab.kernel.invokeFunction('convertToInteractive',\n",
              "                                                    [key], {});\n",
              "        if (!dataTable) return;\n",
              "\n",
              "        const docLinkHtml = 'Like what you see? Visit the ' +\n",
              "          '<a target=\"_blank\" href=https://colab.research.google.com/notebooks/data_table.ipynb>data table notebook</a>'\n",
              "          + ' to learn more about interactive tables.';\n",
              "        element.innerHTML = '';\n",
              "        dataTable['output_type'] = 'display_data';\n",
              "        await google.colab.output.renderOutput(dataTable, element);\n",
              "        const docLink = document.createElement('div');\n",
              "        docLink.innerHTML = docLinkHtml;\n",
              "        element.appendChild(docLink);\n",
              "      }\n",
              "    </script>\n",
              "  </div>\n",
              "\n",
              "\n",
              "<div id=\"df-130fd21a-c544-4ea2-ae2c-acf12cb840e6\">\n",
              "  <button class=\"colab-df-quickchart\" onclick=\"quickchart('df-130fd21a-c544-4ea2-ae2c-acf12cb840e6')\"\n",
              "            title=\"Suggest charts.\"\n",
              "            style=\"display:none;\">\n",
              "\n",
              "<svg xmlns=\"http://www.w3.org/2000/svg\" height=\"24px\"viewBox=\"0 0 24 24\"\n",
              "     width=\"24px\">\n",
              "    <g>\n",
              "        <path d=\"M19 3H5c-1.1 0-2 .9-2 2v14c0 1.1.9 2 2 2h14c1.1 0 2-.9 2-2V5c0-1.1-.9-2-2-2zM9 17H7v-7h2v7zm4 0h-2V7h2v10zm4 0h-2v-4h2v4z\"/>\n",
              "    </g>\n",
              "</svg>\n",
              "  </button>\n",
              "\n",
              "<style>\n",
              "  .colab-df-quickchart {\n",
              "      --bg-color: #E8F0FE;\n",
              "      --fill-color: #1967D2;\n",
              "      --hover-bg-color: #E2EBFA;\n",
              "      --hover-fill-color: #174EA6;\n",
              "      --disabled-fill-color: #AAA;\n",
              "      --disabled-bg-color: #DDD;\n",
              "  }\n",
              "\n",
              "  [theme=dark] .colab-df-quickchart {\n",
              "      --bg-color: #3B4455;\n",
              "      --fill-color: #D2E3FC;\n",
              "      --hover-bg-color: #434B5C;\n",
              "      --hover-fill-color: #FFFFFF;\n",
              "      --disabled-bg-color: #3B4455;\n",
              "      --disabled-fill-color: #666;\n",
              "  }\n",
              "\n",
              "  .colab-df-quickchart {\n",
              "    background-color: var(--bg-color);\n",
              "    border: none;\n",
              "    border-radius: 50%;\n",
              "    cursor: pointer;\n",
              "    display: none;\n",
              "    fill: var(--fill-color);\n",
              "    height: 32px;\n",
              "    padding: 0;\n",
              "    width: 32px;\n",
              "  }\n",
              "\n",
              "  .colab-df-quickchart:hover {\n",
              "    background-color: var(--hover-bg-color);\n",
              "    box-shadow: 0 1px 2px rgba(60, 64, 67, 0.3), 0 1px 3px 1px rgba(60, 64, 67, 0.15);\n",
              "    fill: var(--button-hover-fill-color);\n",
              "  }\n",
              "\n",
              "  .colab-df-quickchart-complete:disabled,\n",
              "  .colab-df-quickchart-complete:disabled:hover {\n",
              "    background-color: var(--disabled-bg-color);\n",
              "    fill: var(--disabled-fill-color);\n",
              "    box-shadow: none;\n",
              "  }\n",
              "\n",
              "  .colab-df-spinner {\n",
              "    border: 2px solid var(--fill-color);\n",
              "    border-color: transparent;\n",
              "    border-bottom-color: var(--fill-color);\n",
              "    animation:\n",
              "      spin 1s steps(1) infinite;\n",
              "  }\n",
              "\n",
              "  @keyframes spin {\n",
              "    0% {\n",
              "      border-color: transparent;\n",
              "      border-bottom-color: var(--fill-color);\n",
              "      border-left-color: var(--fill-color);\n",
              "    }\n",
              "    20% {\n",
              "      border-color: transparent;\n",
              "      border-left-color: var(--fill-color);\n",
              "      border-top-color: var(--fill-color);\n",
              "    }\n",
              "    30% {\n",
              "      border-color: transparent;\n",
              "      border-left-color: var(--fill-color);\n",
              "      border-top-color: var(--fill-color);\n",
              "      border-right-color: var(--fill-color);\n",
              "    }\n",
              "    40% {\n",
              "      border-color: transparent;\n",
              "      border-right-color: var(--fill-color);\n",
              "      border-top-color: var(--fill-color);\n",
              "    }\n",
              "    60% {\n",
              "      border-color: transparent;\n",
              "      border-right-color: var(--fill-color);\n",
              "    }\n",
              "    80% {\n",
              "      border-color: transparent;\n",
              "      border-right-color: var(--fill-color);\n",
              "      border-bottom-color: var(--fill-color);\n",
              "    }\n",
              "    90% {\n",
              "      border-color: transparent;\n",
              "      border-bottom-color: var(--fill-color);\n",
              "    }\n",
              "  }\n",
              "</style>\n",
              "\n",
              "  <script>\n",
              "    async function quickchart(key) {\n",
              "      const quickchartButtonEl =\n",
              "        document.querySelector('#' + key + ' button');\n",
              "      quickchartButtonEl.disabled = true;  // To prevent multiple clicks.\n",
              "      quickchartButtonEl.classList.add('colab-df-spinner');\n",
              "      try {\n",
              "        const charts = await google.colab.kernel.invokeFunction(\n",
              "            'suggestCharts', [key], {});\n",
              "      } catch (error) {\n",
              "        console.error('Error during call to suggestCharts:', error);\n",
              "      }\n",
              "      quickchartButtonEl.classList.remove('colab-df-spinner');\n",
              "      quickchartButtonEl.classList.add('colab-df-quickchart-complete');\n",
              "    }\n",
              "    (() => {\n",
              "      let quickchartButtonEl =\n",
              "        document.querySelector('#df-130fd21a-c544-4ea2-ae2c-acf12cb840e6 button');\n",
              "      quickchartButtonEl.style.display =\n",
              "        google.colab.kernel.accessAllowed ? 'block' : 'none';\n",
              "    })();\n",
              "  </script>\n",
              "</div>\n",
              "    </div>\n",
              "  </div>\n"
            ]
          },
          "metadata": {},
          "execution_count": 41
        }
      ]
    },
    {
      "cell_type": "code",
      "source": [
        "df.shape"
      ],
      "metadata": {
        "colab": {
          "base_uri": "https://localhost:8080/"
        },
        "id": "5IziGRHx4kEc",
        "outputId": "5fbd3e4d-82a3-4a0c-ba99-ccda1e6725ec"
      },
      "execution_count": 42,
      "outputs": [
        {
          "output_type": "execute_result",
          "data": {
            "text/plain": [
              "(149, 5)"
            ]
          },
          "metadata": {},
          "execution_count": 42
        }
      ]
    },
    {
      "cell_type": "markdown",
      "source": [
        "El DataFrame df tiene 149 filas y 5 columnas."
      ],
      "metadata": {
        "id": "GVUAcjjY5EH9"
      }
    },
    {
      "cell_type": "code",
      "source": [
        "df.describe()"
      ],
      "metadata": {
        "colab": {
          "base_uri": "https://localhost:8080/",
          "height": 300
        },
        "id": "6ngSA1QM4mCL",
        "outputId": "bc96337e-5aa4-48e6-8a04-fc127f0ef875"
      },
      "execution_count": 43,
      "outputs": [
        {
          "output_type": "execute_result",
          "data": {
            "text/plain": [
              "       sepal_length  sepal_width  petal_length  petal_width\n",
              "count    149.000000   149.000000    149.000000   149.000000\n",
              "mean       5.848322     3.051007      3.774497     1.205369\n",
              "std        0.828594     0.433499      1.759651     0.761292\n",
              "min        4.300000     2.000000      1.000000     0.100000\n",
              "25%        5.100000     2.800000      1.600000     0.300000\n",
              "50%        5.800000     3.000000      4.400000     1.300000\n",
              "75%        6.400000     3.300000      5.100000     1.800000\n",
              "max        7.900000     4.400000      6.900000     2.500000"
            ],
            "text/html": [
              "\n",
              "  <div id=\"df-73d7795c-4317-42aa-903e-2ed3a3069e18\" class=\"colab-df-container\">\n",
              "    <div>\n",
              "<style scoped>\n",
              "    .dataframe tbody tr th:only-of-type {\n",
              "        vertical-align: middle;\n",
              "    }\n",
              "\n",
              "    .dataframe tbody tr th {\n",
              "        vertical-align: top;\n",
              "    }\n",
              "\n",
              "    .dataframe thead th {\n",
              "        text-align: right;\n",
              "    }\n",
              "</style>\n",
              "<table border=\"1\" class=\"dataframe\">\n",
              "  <thead>\n",
              "    <tr style=\"text-align: right;\">\n",
              "      <th></th>\n",
              "      <th>sepal_length</th>\n",
              "      <th>sepal_width</th>\n",
              "      <th>petal_length</th>\n",
              "      <th>petal_width</th>\n",
              "    </tr>\n",
              "  </thead>\n",
              "  <tbody>\n",
              "    <tr>\n",
              "      <th>count</th>\n",
              "      <td>149.000000</td>\n",
              "      <td>149.000000</td>\n",
              "      <td>149.000000</td>\n",
              "      <td>149.000000</td>\n",
              "    </tr>\n",
              "    <tr>\n",
              "      <th>mean</th>\n",
              "      <td>5.848322</td>\n",
              "      <td>3.051007</td>\n",
              "      <td>3.774497</td>\n",
              "      <td>1.205369</td>\n",
              "    </tr>\n",
              "    <tr>\n",
              "      <th>std</th>\n",
              "      <td>0.828594</td>\n",
              "      <td>0.433499</td>\n",
              "      <td>1.759651</td>\n",
              "      <td>0.761292</td>\n",
              "    </tr>\n",
              "    <tr>\n",
              "      <th>min</th>\n",
              "      <td>4.300000</td>\n",
              "      <td>2.000000</td>\n",
              "      <td>1.000000</td>\n",
              "      <td>0.100000</td>\n",
              "    </tr>\n",
              "    <tr>\n",
              "      <th>25%</th>\n",
              "      <td>5.100000</td>\n",
              "      <td>2.800000</td>\n",
              "      <td>1.600000</td>\n",
              "      <td>0.300000</td>\n",
              "    </tr>\n",
              "    <tr>\n",
              "      <th>50%</th>\n",
              "      <td>5.800000</td>\n",
              "      <td>3.000000</td>\n",
              "      <td>4.400000</td>\n",
              "      <td>1.300000</td>\n",
              "    </tr>\n",
              "    <tr>\n",
              "      <th>75%</th>\n",
              "      <td>6.400000</td>\n",
              "      <td>3.300000</td>\n",
              "      <td>5.100000</td>\n",
              "      <td>1.800000</td>\n",
              "    </tr>\n",
              "    <tr>\n",
              "      <th>max</th>\n",
              "      <td>7.900000</td>\n",
              "      <td>4.400000</td>\n",
              "      <td>6.900000</td>\n",
              "      <td>2.500000</td>\n",
              "    </tr>\n",
              "  </tbody>\n",
              "</table>\n",
              "</div>\n",
              "    <div class=\"colab-df-buttons\">\n",
              "\n",
              "  <div class=\"colab-df-container\">\n",
              "    <button class=\"colab-df-convert\" onclick=\"convertToInteractive('df-73d7795c-4317-42aa-903e-2ed3a3069e18')\"\n",
              "            title=\"Convert this dataframe to an interactive table.\"\n",
              "            style=\"display:none;\">\n",
              "\n",
              "  <svg xmlns=\"http://www.w3.org/2000/svg\" height=\"24px\" viewBox=\"0 -960 960 960\">\n",
              "    <path d=\"M120-120v-720h720v720H120Zm60-500h600v-160H180v160Zm220 220h160v-160H400v160Zm0 220h160v-160H400v160ZM180-400h160v-160H180v160Zm440 0h160v-160H620v160ZM180-180h160v-160H180v160Zm440 0h160v-160H620v160Z\"/>\n",
              "  </svg>\n",
              "    </button>\n",
              "\n",
              "  <style>\n",
              "    .colab-df-container {\n",
              "      display:flex;\n",
              "      gap: 12px;\n",
              "    }\n",
              "\n",
              "    .colab-df-convert {\n",
              "      background-color: #E8F0FE;\n",
              "      border: none;\n",
              "      border-radius: 50%;\n",
              "      cursor: pointer;\n",
              "      display: none;\n",
              "      fill: #1967D2;\n",
              "      height: 32px;\n",
              "      padding: 0 0 0 0;\n",
              "      width: 32px;\n",
              "    }\n",
              "\n",
              "    .colab-df-convert:hover {\n",
              "      background-color: #E2EBFA;\n",
              "      box-shadow: 0px 1px 2px rgba(60, 64, 67, 0.3), 0px 1px 3px 1px rgba(60, 64, 67, 0.15);\n",
              "      fill: #174EA6;\n",
              "    }\n",
              "\n",
              "    .colab-df-buttons div {\n",
              "      margin-bottom: 4px;\n",
              "    }\n",
              "\n",
              "    [theme=dark] .colab-df-convert {\n",
              "      background-color: #3B4455;\n",
              "      fill: #D2E3FC;\n",
              "    }\n",
              "\n",
              "    [theme=dark] .colab-df-convert:hover {\n",
              "      background-color: #434B5C;\n",
              "      box-shadow: 0px 1px 3px 1px rgba(0, 0, 0, 0.15);\n",
              "      filter: drop-shadow(0px 1px 2px rgba(0, 0, 0, 0.3));\n",
              "      fill: #FFFFFF;\n",
              "    }\n",
              "  </style>\n",
              "\n",
              "    <script>\n",
              "      const buttonEl =\n",
              "        document.querySelector('#df-73d7795c-4317-42aa-903e-2ed3a3069e18 button.colab-df-convert');\n",
              "      buttonEl.style.display =\n",
              "        google.colab.kernel.accessAllowed ? 'block' : 'none';\n",
              "\n",
              "      async function convertToInteractive(key) {\n",
              "        const element = document.querySelector('#df-73d7795c-4317-42aa-903e-2ed3a3069e18');\n",
              "        const dataTable =\n",
              "          await google.colab.kernel.invokeFunction('convertToInteractive',\n",
              "                                                    [key], {});\n",
              "        if (!dataTable) return;\n",
              "\n",
              "        const docLinkHtml = 'Like what you see? Visit the ' +\n",
              "          '<a target=\"_blank\" href=https://colab.research.google.com/notebooks/data_table.ipynb>data table notebook</a>'\n",
              "          + ' to learn more about interactive tables.';\n",
              "        element.innerHTML = '';\n",
              "        dataTable['output_type'] = 'display_data';\n",
              "        await google.colab.output.renderOutput(dataTable, element);\n",
              "        const docLink = document.createElement('div');\n",
              "        docLink.innerHTML = docLinkHtml;\n",
              "        element.appendChild(docLink);\n",
              "      }\n",
              "    </script>\n",
              "  </div>\n",
              "\n",
              "\n",
              "<div id=\"df-dddf2e8c-8283-4b4f-9b93-8a8b3e394392\">\n",
              "  <button class=\"colab-df-quickchart\" onclick=\"quickchart('df-dddf2e8c-8283-4b4f-9b93-8a8b3e394392')\"\n",
              "            title=\"Suggest charts.\"\n",
              "            style=\"display:none;\">\n",
              "\n",
              "<svg xmlns=\"http://www.w3.org/2000/svg\" height=\"24px\"viewBox=\"0 0 24 24\"\n",
              "     width=\"24px\">\n",
              "    <g>\n",
              "        <path d=\"M19 3H5c-1.1 0-2 .9-2 2v14c0 1.1.9 2 2 2h14c1.1 0 2-.9 2-2V5c0-1.1-.9-2-2-2zM9 17H7v-7h2v7zm4 0h-2V7h2v10zm4 0h-2v-4h2v4z\"/>\n",
              "    </g>\n",
              "</svg>\n",
              "  </button>\n",
              "\n",
              "<style>\n",
              "  .colab-df-quickchart {\n",
              "      --bg-color: #E8F0FE;\n",
              "      --fill-color: #1967D2;\n",
              "      --hover-bg-color: #E2EBFA;\n",
              "      --hover-fill-color: #174EA6;\n",
              "      --disabled-fill-color: #AAA;\n",
              "      --disabled-bg-color: #DDD;\n",
              "  }\n",
              "\n",
              "  [theme=dark] .colab-df-quickchart {\n",
              "      --bg-color: #3B4455;\n",
              "      --fill-color: #D2E3FC;\n",
              "      --hover-bg-color: #434B5C;\n",
              "      --hover-fill-color: #FFFFFF;\n",
              "      --disabled-bg-color: #3B4455;\n",
              "      --disabled-fill-color: #666;\n",
              "  }\n",
              "\n",
              "  .colab-df-quickchart {\n",
              "    background-color: var(--bg-color);\n",
              "    border: none;\n",
              "    border-radius: 50%;\n",
              "    cursor: pointer;\n",
              "    display: none;\n",
              "    fill: var(--fill-color);\n",
              "    height: 32px;\n",
              "    padding: 0;\n",
              "    width: 32px;\n",
              "  }\n",
              "\n",
              "  .colab-df-quickchart:hover {\n",
              "    background-color: var(--hover-bg-color);\n",
              "    box-shadow: 0 1px 2px rgba(60, 64, 67, 0.3), 0 1px 3px 1px rgba(60, 64, 67, 0.15);\n",
              "    fill: var(--button-hover-fill-color);\n",
              "  }\n",
              "\n",
              "  .colab-df-quickchart-complete:disabled,\n",
              "  .colab-df-quickchart-complete:disabled:hover {\n",
              "    background-color: var(--disabled-bg-color);\n",
              "    fill: var(--disabled-fill-color);\n",
              "    box-shadow: none;\n",
              "  }\n",
              "\n",
              "  .colab-df-spinner {\n",
              "    border: 2px solid var(--fill-color);\n",
              "    border-color: transparent;\n",
              "    border-bottom-color: var(--fill-color);\n",
              "    animation:\n",
              "      spin 1s steps(1) infinite;\n",
              "  }\n",
              "\n",
              "  @keyframes spin {\n",
              "    0% {\n",
              "      border-color: transparent;\n",
              "      border-bottom-color: var(--fill-color);\n",
              "      border-left-color: var(--fill-color);\n",
              "    }\n",
              "    20% {\n",
              "      border-color: transparent;\n",
              "      border-left-color: var(--fill-color);\n",
              "      border-top-color: var(--fill-color);\n",
              "    }\n",
              "    30% {\n",
              "      border-color: transparent;\n",
              "      border-left-color: var(--fill-color);\n",
              "      border-top-color: var(--fill-color);\n",
              "      border-right-color: var(--fill-color);\n",
              "    }\n",
              "    40% {\n",
              "      border-color: transparent;\n",
              "      border-right-color: var(--fill-color);\n",
              "      border-top-color: var(--fill-color);\n",
              "    }\n",
              "    60% {\n",
              "      border-color: transparent;\n",
              "      border-right-color: var(--fill-color);\n",
              "    }\n",
              "    80% {\n",
              "      border-color: transparent;\n",
              "      border-right-color: var(--fill-color);\n",
              "      border-bottom-color: var(--fill-color);\n",
              "    }\n",
              "    90% {\n",
              "      border-color: transparent;\n",
              "      border-bottom-color: var(--fill-color);\n",
              "    }\n",
              "  }\n",
              "</style>\n",
              "\n",
              "  <script>\n",
              "    async function quickchart(key) {\n",
              "      const quickchartButtonEl =\n",
              "        document.querySelector('#' + key + ' button');\n",
              "      quickchartButtonEl.disabled = true;  // To prevent multiple clicks.\n",
              "      quickchartButtonEl.classList.add('colab-df-spinner');\n",
              "      try {\n",
              "        const charts = await google.colab.kernel.invokeFunction(\n",
              "            'suggestCharts', [key], {});\n",
              "      } catch (error) {\n",
              "        console.error('Error during call to suggestCharts:', error);\n",
              "      }\n",
              "      quickchartButtonEl.classList.remove('colab-df-spinner');\n",
              "      quickchartButtonEl.classList.add('colab-df-quickchart-complete');\n",
              "    }\n",
              "    (() => {\n",
              "      let quickchartButtonEl =\n",
              "        document.querySelector('#df-dddf2e8c-8283-4b4f-9b93-8a8b3e394392 button');\n",
              "      quickchartButtonEl.style.display =\n",
              "        google.colab.kernel.accessAllowed ? 'block' : 'none';\n",
              "    })();\n",
              "  </script>\n",
              "</div>\n",
              "    </div>\n",
              "  </div>\n"
            ]
          },
          "metadata": {},
          "execution_count": 43
        }
      ]
    },
    {
      "cell_type": "markdown",
      "source": [
        "Total de registros: 149\n",
        "\n",
        "Longitud del sépalo (sepal_length):\n",
        "\n",
        "Media: 5.85 cm\n",
        "Rango: 4.3 cm - 7.9 cm\n",
        "Desviación estándar: 0.83 cm\n",
        "Ancho del sépalo (sepal_width):\n",
        "\n",
        "Media: 3.05 cm\n",
        "Rango: 2.0 cm - 4.4 cm\n",
        "Desviación estándar: 0.43 cm\n",
        "Longitud del pétalo (petal_length):\n",
        "\n",
        "Media: 3.77 cm\n",
        "Rango: 1.0 cm - 6.9 cm\n",
        "Desviación estándar: 1.76 cm\n",
        "Ancho del pétalo (petal_width):\n",
        "\n",
        "Media: 1.21 cm\n",
        "Rango: 0.1 cm - 2.5 cm\n",
        "Desviación estándar: 0.76 cm\n"
      ],
      "metadata": {
        "id": "bt8r2Q0O5Q2S"
      }
    },
    {
      "cell_type": "code",
      "source": [
        "import matplotlib.pyplot as plt\n",
        "import seaborn as sns\n",
        "\n",
        "sns.set_style(\"whitegrid\")\n",
        "plt.figure(figsize=(12, 8))\n",
        "sns.boxplot(data=df.drop(columns=[\"species\"]))\n",
        "plt.title(\"Boxplot de las características del conjunto de datos Iris\")\n",
        "plt.show()\n"
      ],
      "metadata": {
        "colab": {
          "base_uri": "https://localhost:8080/",
          "height": 699
        },
        "id": "cSDhjABA4rc7",
        "outputId": "b0c44110-f865-40b6-b20a-43d901a3fbeb"
      },
      "execution_count": 45,
      "outputs": [
        {
          "output_type": "display_data",
          "data": {
            "text/plain": [
              "<Figure size 1200x800 with 1 Axes>"
            ],
            "image/png": "[encoded data removed]"
          },
          "metadata": {}
        }
      ]
    },
    {
      "cell_type": "markdown",
      "source": [
        "Se tiene una pequeña cantidad de outliers en la variable sepal_width, pero no se eliminarán por ser una cantidad pequeña de datos."
      ],
      "metadata": {
        "id": "tYLHvg7p5sqN"
      }
    },
    {
      "cell_type": "code",
      "source": [
        "null_counts = df.isnull().sum()\n",
        "print(null_counts)"
      ],
      "metadata": {
        "colab": {
          "base_uri": "https://localhost:8080/"
        },
        "id": "FemfHwrU43aB",
        "outputId": "7b865cf3-dc12-4faa-8482-8992a662f307"
      },
      "execution_count": 47,
      "outputs": [
        {
          "output_type": "stream",
          "name": "stdout",
          "text": [
            "sepal_length    0\n",
            "sepal_width     0\n",
            "petal_length    0\n",
            "petal_width     0\n",
            "species         0\n",
            "dtype: int64\n"
          ]
        }
      ]
    },
    {
      "cell_type": "markdown",
      "source": [
        "No se tiene datos nulos"
      ],
      "metadata": {
        "id": "_2UYEQzc6FE9"
      }
    },
    {
      "cell_type": "markdown",
      "metadata": {
        "id": "D6O8akfmUoWc"
      },
      "source": [
        "## Data"
      ]
    },
    {
      "cell_type": "code",
      "source": [
        "@component(\n",
        "    packages_to_install = [\n",
        "        \"pandas==1.3.4\",\n",
        "        \"scikit-learn==1.0.1\",\n",
        "    ],\n",
        ")\n",
        "def get_data(\n",
        "    dataset_train: Output[Dataset],\n",
        "    dataset_test: Output[Dataset],\n",
        "):\n",
        "\n",
        "    from sklearn import datasets\n",
        "    from sklearn.model_selection import train_test_split as tts\n",
        "    import pandas as pd\n",
        "\n",
        "    # dataset iris\n",
        "    data_raw = datasets.load_iris()\n",
        "    data = pd.DataFrame(data_raw.data, columns=data_raw.feature_names)\n",
        "    data[\"target\"] = data_raw.target\n",
        "\n",
        "    train, test = tts(data, test_size=0.3)\n",
        "\n",
        "    train.to_csv(dataset_train.path)\n",
        "    test.to_csv(dataset_test.path)\n",
        "\n"
      ],
      "metadata": {
        "id": "PIjCSlj5Zxpe"
      },
      "execution_count": 2,
      "outputs": []
    },
    {
      "cell_type": "markdown",
      "metadata": {
        "id": "dmllUUq0UqDo"
      },
      "source": [
        "## Training"
      ]
    },
    {
      "cell_type": "code",
      "source": [
        "@component(\n",
        "    packages_to_install = [\n",
        "        \"pandas==1.3.4\",\n",
        "        \"xgboost==1.5.1\",\n",
        "        \"scikit-learn==1.0.1\", #xgboost requires scikitlearn\n",
        "    ],\n",
        ")\n",
        "def train_model(\n",
        "    dataset: Input[Dataset],\n",
        "    model_artifact: Output[Model]\n",
        "):\n",
        "\n",
        "    from xgboost import XGBClassifier\n",
        "    import pandas as pd\n",
        "    from sklearn.model_selection import train_test_split\n",
        "    from sklearn.metrics import accuracy_score\n",
        "\n",
        "    data = pd.read_csv(dataset.path)\n",
        "    X = data.drop(columns=[\"target\"])\n",
        "    y = data.target\n",
        "\n",
        "    # Dividir los datos en conjuntos de entrenamiento y validación\n",
        "    X_train, X_val, y_train, y_val = train_test_split(X, y, test_size=0.2, random_state=42)\n",
        "\n",
        "    model = XGBClassifier(\n",
        "        objective=\"multi:softprob\",\n",
        "        num_class=3  # 3 clases en el dataset Iris\n",
        "    )\n",
        "    model.fit(\n",
        "        X_train,\n",
        "        y_train\n",
        "    )\n",
        "\n",
        "    y_pred = model.predict(X_val)\n",
        "    score = accuracy_score(y_val, y_pred)\n",
        "\n",
        "    model_artifact.metadata[\"train_score\"] = float(score)\n",
        "    model_artifact.metadata[\"framework\"] = \"XGBoost\"\n",
        "\n",
        "    print(model_artifact.path)\n",
        "\n",
        "    model.save_model(model_artifact.path)\n"
      ],
      "metadata": {
        "id": "_9mfa7e9ckUD"
      },
      "execution_count": 3,
      "outputs": []
    },
    {
      "cell_type": "markdown",
      "metadata": {
        "id": "rkazD35dv0Un"
      },
      "source": [
        "## Evaluation"
      ]
    },
    {
      "cell_type": "code",
      "metadata": {
        "id": "k1AiObLIB1cx"
      },
      "source": [
        "@component(\n",
        "    packages_to_install=[\n",
        "        \"pandas==1.3.4\",\n",
        "        \"scikit-learn==1.0.1\",\n",
        "        \"xgboost==1.5.1\"\n",
        "    ],\n",
        ")\n",
        "def eval_model(\n",
        "    test_set: Input[Dataset],\n",
        "    xgb_model: Input[Model],\n",
        "    metrics: Output[ClassificationMetrics],\n",
        "    smetrics: Output[Metrics]\n",
        ") -> NamedTuple(\"Outputs\", [(\"deploy\", str)]):\n",
        "    from xgboost import XGBClassifier\n",
        "    import pandas as pd\n",
        "    from sklearn.metrics import classification_report, confusion_matrix\n",
        "\n",
        "    data = pd.read_csv(test_set.path)\n",
        "    model = XGBClassifier()\n",
        "    model.load_model(xgb_model.path)\n",
        "\n",
        "    y_pred = model.predict(data.drop(columns=[\"target\"]))\n",
        "    score = model.score(data.drop(columns=[\"target\"]), data.target)\n",
        "\n",
        "    # Obtener reporte de clasificación\n",
        "    report = classification_report(data.target, y_pred, output_dict=True)\n",
        "\n",
        "    # Registrar las métricas por clase\n",
        "    for label, metrics_dict in report.items():\n",
        "        for metric_name, value in metrics_dict.items():\n",
        "            smetrics.log_metric(f\"{label}_{metric_name}\", value)\n",
        "\n",
        "    # Log confusion matrix\n",
        "    labels = [\"setosa\", \"versicolor\", \"virginica\"]\n",
        "    metrics.log_confusion_matrix(\n",
        "        labels,\n",
        "        confusion_matrix(data.target, y_pred).tolist()\n",
        "    )\n",
        "\n",
        "    # Comparar el score con un umbral para decidir si desplegar\n",
        "    deploy = \"true\" if score > 0.9 else \"false\"  # por ejemplo, si deseamos un umbral del 90%\n",
        "\n",
        "    return (deploy,)\n"
      ],
      "execution_count": 4,
      "outputs": []
    },
    {
      "cell_type": "markdown",
      "metadata": {
        "id": "V4qRVZ9Jv2NV"
      },
      "source": [
        "## Deployment"
      ]
    },
    {
      "cell_type": "code",
      "metadata": {
        "id": "dZq-EaJngwFW"
      },
      "source": [
        "@component(packages_to_install=[\"google-cloud-aiplatform==1.3.0\"])\n",
        "def deploy(\n",
        "    model: Input[Model],\n",
        "    project: str,\n",
        "    region: str,):\n",
        "\n",
        "  import logging\n",
        "  from google.cloud import aiplatform\n",
        "  aiplatform.init(project=project, location=region)\n",
        "\n",
        "  logging.basicConfig(level=logging.DEBUG)\n",
        "  logging.debug(model)\n",
        "\n",
        "  print(model)\n",
        "  print(model.uri)\n",
        "\n",
        "  import os\n",
        "  path, file = os.path.split(model.uri)\n",
        "\n",
        "  # datetime.datetime.now().strftime('%Y%m%d%H%M%S')\n",
        "  # serving image https://cloud.google.com/vertex-ai/docs/predictions/pre-built-containers#xgboost\n",
        "  deployed_model = aiplatform.Model.upload(\n",
        "        display_name=\"xgboost-iris-pipeline\",  # changed to indicate it's for the iris dataset\n",
        "        artifact_uri=path,\n",
        "        serving_container_image_uri=\"us-docker.pkg.dev/vertex-ai/prediction/xgboost-cpu.1-4:latest\"\n",
        "  )\n"
      ],
      "execution_count": 5,
      "outputs": []
    },
    {
      "cell_type": "markdown",
      "metadata": {
        "id": "QRgW9szKv46I"
      },
      "source": [
        "## Pipeline"
      ]
    },
    {
      "cell_type": "code",
      "metadata": {
        "id": "z8JS0BA0B7za"
      },
      "source": [
        "@dsl.pipeline(\n",
        "    # Default pipeline root. You can override it when submitting the pipeline.\n",
        "    pipeline_root=PIPELINE_ROOT + \"xgboost-iris-pipeline\",\n",
        "    # A name for the pipeline. Use to determine the pipeline Context.\n",
        "    name=\"xgboost-iris-pipeline-with-deployment\",\n",
        ")\n",
        "def iris_pipeline():\n",
        "    dataset_op = get_data()\n",
        "    training_op = train_model(dataset_op.outputs[\"dataset_train\"])\n",
        "    eval_op = eval_model(\n",
        "        test_set=dataset_op.outputs[\"dataset_test\"],\n",
        "        xgb_model=training_op.outputs[\"model_artifact\"]\n",
        "    )\n",
        "\n",
        "    # Condition to deploy the model if 'deploy' is true\n",
        "    with dsl.Condition(\n",
        "        eval_op.outputs[\"deploy\"] == \"true\",\n",
        "        name=\"Check-to-Deploy\",\n",
        "    ):\n",
        "        deploy_op = deploy(\n",
        "            training_op.outputs[\"model_artifact\"],\n",
        "            'sascha-playground-doit',\n",
        "            'us-central1'\n",
        "        )\n",
        "\n",
        "\n",
        "\n",
        "    # we need a solution for xgb models\n",
        "    # its here https://cloud.google.com/vertex-ai/docs/predictions/deploy-model-api#aiplatform_deploy_model_custom_trained_model_sample-python\n"
      ],
      "execution_count": 12,
      "outputs": []
    },
    {
      "cell_type": "markdown",
      "metadata": {
        "id": "15juxBrzgiLk"
      },
      "source": [
        "## Compile"
      ]
    },
    {
      "cell_type": "code",
      "metadata": {
        "id": "sfz5joUmghwp"
      },
      "source": [
        "compiler.Compiler().compile(\n",
        "    pipeline_func=iris_pipeline,\n",
        "    package_path='xgb_pipeline.json')"
      ],
      "execution_count": 74,
      "outputs": []
    },
    {
      "cell_type": "markdown",
      "metadata": {
        "id": "lSDY3Rrh8OTq"
      },
      "source": [
        "## Run Pipeline"
      ]
    },
    {
      "cell_type": "code",
      "metadata": {
        "id": "0g0qJwcG8QHK"
      },
      "source": [
        "job = pipeline_jobs.PipelineJob(\n",
        "    display_name=\"xgb-pipeline\",\n",
        "    template_path=\"xgb_pipeline.json\"\n",
        ")\n",
        "\n",
        "job.run(sync=False)"
      ],
      "execution_count": 77,
      "outputs": []
    },
    {
      "cell_type": "markdown",
      "source": [
        "![image.png](data:image/png;base64,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)"
      ],
      "metadata": {
        "id": "RoxYMZzOxDKN"
      }
    },
    {
      "cell_type": "markdown",
      "source": [
        "## Serving Container\n",
        "code for the container see https://github.com/SaschaHeyer/serving-custom-container"
      ],
      "metadata": {
        "id": "kCY9KVu7MrDC"
      }
    },
    {
      "cell_type": "code",
      "source": [
        "@component(packages_to_install=[\n",
        "    \"google-cloud-build==3.8.3\",\n",
        "    \"google-api-python-client\"])\n",
        "def build_serving_container(model_artifact: Input[Model]) -> NamedTuple(\"Outputs\", [(\"container\", str)]):\n",
        "    from google.cloud.devtools import cloudbuild\n",
        "    from googleapiclient.discovery import build\n",
        "    import time\n",
        "\n",
        "    print('deploy.............')\n",
        "    print(model_artifact.uri)\n",
        "\n",
        "    client = cloudbuild.CloudBuildClient()\n",
        "    build = cloudbuild.Build()\n",
        "\n",
        "\n",
        "    # version is current timestamp\n",
        "    version = str(int(time.time()))\n",
        "    container = \"gcr.io/sascha-playground-doit/sentiment-fast-api-test:{}\".format(version)\n",
        "\n",
        "\n",
        "    #todo get the model from the pipeline folder\n",
        "    build.steps = [{\"name\": \"gcr.io/cloud-builders/git\",\n",
        "                    \"args\": [\"clone\", \"https://github.com/SaschaHeyer/serving-custom-container\"]},\n",
        "                   {\"name\": \"gcr.io/cloud-builders/gsutil\",\n",
        "                    \"args\": [\"cp\", \"-r\", \"gs://doit-vertex-demo/models/sentiment\", \"./serving-custom-container\"]},\n",
        "                   {\"name\": \"gcr.io/cloud-builders/docker\",\n",
        "                    \"args\": [\"build\", \"-t\", container, \"serving-custom-container\" ]},\n",
        "                   {\"name\": \"gcr.io/cloud-builders/docker\",\n",
        "                    \"args\": [\"push\", container]}]\n",
        "\n",
        "    #build.substitutions = {\"_VERSION\": version}\n",
        "\n",
        "    operation = client.create_build(project_id=\"sascha-playground-doit\", build=build)\n",
        "    # Print the in-progress operation\n",
        "    print(\"IN PROGRESS:\")\n",
        "    print(operation.metadata)\n",
        "\n",
        "    result = operation.result()\n",
        "    # Print the completed status\n",
        "    print(\"RESULT:\", result.status)\n",
        "\n",
        "    return (container,)"
      ],
      "metadata": {
        "id": "8J-Fbxo1NHYX"
      },
      "execution_count": 37,
      "outputs": []
    }
  ]
}